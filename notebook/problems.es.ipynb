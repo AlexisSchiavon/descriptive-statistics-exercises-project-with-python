{
 "cells": [
  {
   "cell_type": "markdown",
   "id": "6805e3f1",
   "metadata": {},
   "source": [
    "# Problemas de Estadística Descriptiva\n",
    "\n",
    "## Ejercicio 1 – ¿Qué tan largos son los títulos de las películas?\n",
    "\n",
    "En este ejercicio vas a aplicar técnicas de estadística descriptiva sobre un conjunto de datos real: una base con 1000 películas populares del sitio IMDb.\n",
    "\n",
    "A partir del título de cada película, vas a:\n",
    "- Calcular la longitud del título (en caracteres).\n",
    "- Obtener métricas estadísticas clave: media, mediana, moda, rango, varianza, desviación estándar, asimetría y curtosis.\n",
    "- Identificar los títulos más largos y más cortos.\n",
    "- Visualizar la distribución de estas longitudes con un histograma y una curva de densidad.\n"
   ]
  },
  {
   "cell_type": "code",
   "execution_count": 1,
   "id": "ca3d2c0a",
   "metadata": {},
   "outputs": [
    {
     "data": {
      "text/html": [
       "<div>\n",
       "<style scoped>\n",
       "    .dataframe tbody tr th:only-of-type {\n",
       "        vertical-align: middle;\n",
       "    }\n",
       "\n",
       "    .dataframe tbody tr th {\n",
       "        vertical-align: top;\n",
       "    }\n",
       "\n",
       "    .dataframe thead th {\n",
       "        text-align: right;\n",
       "    }\n",
       "</style>\n",
       "<table border=\"1\" class=\"dataframe\">\n",
       "  <thead>\n",
       "    <tr style=\"text-align: right;\">\n",
       "      <th></th>\n",
       "      <th>star_rating</th>\n",
       "      <th>title</th>\n",
       "      <th>content_rating</th>\n",
       "      <th>genre</th>\n",
       "      <th>duration</th>\n",
       "      <th>actors_list</th>\n",
       "    </tr>\n",
       "  </thead>\n",
       "  <tbody>\n",
       "    <tr>\n",
       "      <th>0</th>\n",
       "      <td>9.3</td>\n",
       "      <td>The Shawshank Redemption</td>\n",
       "      <td>R</td>\n",
       "      <td>Crime</td>\n",
       "      <td>142</td>\n",
       "      <td>[u'Tim Robbins', u'Morgan Freeman', u'Bob Gunt...</td>\n",
       "    </tr>\n",
       "    <tr>\n",
       "      <th>1</th>\n",
       "      <td>9.2</td>\n",
       "      <td>The Godfather</td>\n",
       "      <td>R</td>\n",
       "      <td>Crime</td>\n",
       "      <td>175</td>\n",
       "      <td>[u'Marlon Brando', u'Al Pacino', u'James Caan']</td>\n",
       "    </tr>\n",
       "    <tr>\n",
       "      <th>2</th>\n",
       "      <td>9.1</td>\n",
       "      <td>The Godfather: Part II</td>\n",
       "      <td>R</td>\n",
       "      <td>Crime</td>\n",
       "      <td>200</td>\n",
       "      <td>[u'Al Pacino', u'Robert De Niro', u'Robert Duv...</td>\n",
       "    </tr>\n",
       "    <tr>\n",
       "      <th>3</th>\n",
       "      <td>9.0</td>\n",
       "      <td>The Dark Knight</td>\n",
       "      <td>PG-13</td>\n",
       "      <td>Action</td>\n",
       "      <td>152</td>\n",
       "      <td>[u'Christian Bale', u'Heath Ledger', u'Aaron E...</td>\n",
       "    </tr>\n",
       "    <tr>\n",
       "      <th>4</th>\n",
       "      <td>8.9</td>\n",
       "      <td>Pulp Fiction</td>\n",
       "      <td>R</td>\n",
       "      <td>Crime</td>\n",
       "      <td>154</td>\n",
       "      <td>[u'John Travolta', u'Uma Thurman', u'Samuel L....</td>\n",
       "    </tr>\n",
       "    <tr>\n",
       "      <th>...</th>\n",
       "      <td>...</td>\n",
       "      <td>...</td>\n",
       "      <td>...</td>\n",
       "      <td>...</td>\n",
       "      <td>...</td>\n",
       "      <td>...</td>\n",
       "    </tr>\n",
       "    <tr>\n",
       "      <th>974</th>\n",
       "      <td>7.4</td>\n",
       "      <td>Tootsie</td>\n",
       "      <td>PG</td>\n",
       "      <td>Comedy</td>\n",
       "      <td>116</td>\n",
       "      <td>[u'Dustin Hoffman', u'Jessica Lange', u'Teri G...</td>\n",
       "    </tr>\n",
       "    <tr>\n",
       "      <th>975</th>\n",
       "      <td>7.4</td>\n",
       "      <td>Back to the Future Part III</td>\n",
       "      <td>PG</td>\n",
       "      <td>Adventure</td>\n",
       "      <td>118</td>\n",
       "      <td>[u'Michael J. Fox', u'Christopher Lloyd', u'Ma...</td>\n",
       "    </tr>\n",
       "    <tr>\n",
       "      <th>976</th>\n",
       "      <td>7.4</td>\n",
       "      <td>Master and Commander: The Far Side of the World</td>\n",
       "      <td>PG-13</td>\n",
       "      <td>Action</td>\n",
       "      <td>138</td>\n",
       "      <td>[u'Russell Crowe', u'Paul Bettany', u'Billy Bo...</td>\n",
       "    </tr>\n",
       "    <tr>\n",
       "      <th>977</th>\n",
       "      <td>7.4</td>\n",
       "      <td>Poltergeist</td>\n",
       "      <td>PG</td>\n",
       "      <td>Horror</td>\n",
       "      <td>114</td>\n",
       "      <td>[u'JoBeth Williams', u\"Heather O'Rourke\", u'Cr...</td>\n",
       "    </tr>\n",
       "    <tr>\n",
       "      <th>978</th>\n",
       "      <td>7.4</td>\n",
       "      <td>Wall Street</td>\n",
       "      <td>R</td>\n",
       "      <td>Crime</td>\n",
       "      <td>126</td>\n",
       "      <td>[u'Charlie Sheen', u'Michael Douglas', u'Tamar...</td>\n",
       "    </tr>\n",
       "  </tbody>\n",
       "</table>\n",
       "<p>979 rows × 6 columns</p>\n",
       "</div>"
      ],
      "text/plain": [
       "     star_rating                                            title  \\\n",
       "0            9.3                         The Shawshank Redemption   \n",
       "1            9.2                                    The Godfather   \n",
       "2            9.1                           The Godfather: Part II   \n",
       "3            9.0                                  The Dark Knight   \n",
       "4            8.9                                     Pulp Fiction   \n",
       "..           ...                                              ...   \n",
       "974          7.4                                          Tootsie   \n",
       "975          7.4                      Back to the Future Part III   \n",
       "976          7.4  Master and Commander: The Far Side of the World   \n",
       "977          7.4                                      Poltergeist   \n",
       "978          7.4                                      Wall Street   \n",
       "\n",
       "    content_rating      genre  duration  \\\n",
       "0                R      Crime       142   \n",
       "1                R      Crime       175   \n",
       "2                R      Crime       200   \n",
       "3            PG-13     Action       152   \n",
       "4                R      Crime       154   \n",
       "..             ...        ...       ...   \n",
       "974             PG     Comedy       116   \n",
       "975             PG  Adventure       118   \n",
       "976          PG-13     Action       138   \n",
       "977             PG     Horror       114   \n",
       "978              R      Crime       126   \n",
       "\n",
       "                                           actors_list  \n",
       "0    [u'Tim Robbins', u'Morgan Freeman', u'Bob Gunt...  \n",
       "1      [u'Marlon Brando', u'Al Pacino', u'James Caan']  \n",
       "2    [u'Al Pacino', u'Robert De Niro', u'Robert Duv...  \n",
       "3    [u'Christian Bale', u'Heath Ledger', u'Aaron E...  \n",
       "4    [u'John Travolta', u'Uma Thurman', u'Samuel L....  \n",
       "..                                                 ...  \n",
       "974  [u'Dustin Hoffman', u'Jessica Lange', u'Teri G...  \n",
       "975  [u'Michael J. Fox', u'Christopher Lloyd', u'Ma...  \n",
       "976  [u'Russell Crowe', u'Paul Bettany', u'Billy Bo...  \n",
       "977  [u'JoBeth Williams', u\"Heather O'Rourke\", u'Cr...  \n",
       "978  [u'Charlie Sheen', u'Michael Douglas', u'Tamar...  \n",
       "\n",
       "[979 rows x 6 columns]"
      ]
     },
     "execution_count": 1,
     "metadata": {},
     "output_type": "execute_result"
    }
   ],
   "source": [
    "# Importar librerias\n",
    "import pandas as pd\n",
    "import numpy as np\n",
    "import matplotlib.pyplot as plt\n",
    "from scipy.stats import skew, kurtosis, mode\n",
    "\n",
    "# Cargar dataset de IMDb\n",
    "url = \"../assets/imdb_1000.csv\"\n",
    "df = pd.read_csv(url)\n",
    "df"
   ]
  },
  {
   "cell_type": "code",
   "execution_count": 2,
   "id": "61d39304",
   "metadata": {},
   "outputs": [
    {
     "data": {
      "text/html": [
       "<div>\n",
       "<style scoped>\n",
       "    .dataframe tbody tr th:only-of-type {\n",
       "        vertical-align: middle;\n",
       "    }\n",
       "\n",
       "    .dataframe tbody tr th {\n",
       "        vertical-align: top;\n",
       "    }\n",
       "\n",
       "    .dataframe thead th {\n",
       "        text-align: right;\n",
       "    }\n",
       "</style>\n",
       "<table border=\"1\" class=\"dataframe\">\n",
       "  <thead>\n",
       "    <tr style=\"text-align: right;\">\n",
       "      <th></th>\n",
       "      <th>star_rating</th>\n",
       "      <th>title</th>\n",
       "      <th>content_rating</th>\n",
       "      <th>genre</th>\n",
       "      <th>duration</th>\n",
       "      <th>actors_list</th>\n",
       "      <th>title_lenght</th>\n",
       "    </tr>\n",
       "  </thead>\n",
       "  <tbody>\n",
       "    <tr>\n",
       "      <th>0</th>\n",
       "      <td>9.3</td>\n",
       "      <td>The Shawshank Redemption</td>\n",
       "      <td>R</td>\n",
       "      <td>Crime</td>\n",
       "      <td>142</td>\n",
       "      <td>[u'Tim Robbins', u'Morgan Freeman', u'Bob Gunt...</td>\n",
       "      <td>24</td>\n",
       "    </tr>\n",
       "    <tr>\n",
       "      <th>1</th>\n",
       "      <td>9.2</td>\n",
       "      <td>The Godfather</td>\n",
       "      <td>R</td>\n",
       "      <td>Crime</td>\n",
       "      <td>175</td>\n",
       "      <td>[u'Marlon Brando', u'Al Pacino', u'James Caan']</td>\n",
       "      <td>13</td>\n",
       "    </tr>\n",
       "    <tr>\n",
       "      <th>2</th>\n",
       "      <td>9.1</td>\n",
       "      <td>The Godfather: Part II</td>\n",
       "      <td>R</td>\n",
       "      <td>Crime</td>\n",
       "      <td>200</td>\n",
       "      <td>[u'Al Pacino', u'Robert De Niro', u'Robert Duv...</td>\n",
       "      <td>22</td>\n",
       "    </tr>\n",
       "    <tr>\n",
       "      <th>3</th>\n",
       "      <td>9.0</td>\n",
       "      <td>The Dark Knight</td>\n",
       "      <td>PG-13</td>\n",
       "      <td>Action</td>\n",
       "      <td>152</td>\n",
       "      <td>[u'Christian Bale', u'Heath Ledger', u'Aaron E...</td>\n",
       "      <td>15</td>\n",
       "    </tr>\n",
       "    <tr>\n",
       "      <th>4</th>\n",
       "      <td>8.9</td>\n",
       "      <td>Pulp Fiction</td>\n",
       "      <td>R</td>\n",
       "      <td>Crime</td>\n",
       "      <td>154</td>\n",
       "      <td>[u'John Travolta', u'Uma Thurman', u'Samuel L....</td>\n",
       "      <td>12</td>\n",
       "    </tr>\n",
       "  </tbody>\n",
       "</table>\n",
       "</div>"
      ],
      "text/plain": [
       "   star_rating                     title content_rating   genre  duration  \\\n",
       "0          9.3  The Shawshank Redemption              R   Crime       142   \n",
       "1          9.2             The Godfather              R   Crime       175   \n",
       "2          9.1    The Godfather: Part II              R   Crime       200   \n",
       "3          9.0           The Dark Knight          PG-13  Action       152   \n",
       "4          8.9              Pulp Fiction              R   Crime       154   \n",
       "\n",
       "                                         actors_list  title_lenght  \n",
       "0  [u'Tim Robbins', u'Morgan Freeman', u'Bob Gunt...            24  \n",
       "1    [u'Marlon Brando', u'Al Pacino', u'James Caan']            13  \n",
       "2  [u'Al Pacino', u'Robert De Niro', u'Robert Duv...            22  \n",
       "3  [u'Christian Bale', u'Heath Ledger', u'Aaron E...            15  \n",
       "4  [u'John Travolta', u'Uma Thurman', u'Samuel L....            12  "
      ]
     },
     "execution_count": 2,
     "metadata": {},
     "output_type": "execute_result"
    }
   ],
   "source": [
    "# Crea una nueva columna llamada 'title_length' con la longitud (número de caracteres) de cada título\n",
    "df['title_lenght'] = df['title'].str.len()\n",
    "df.head()"
   ]
  },
  {
   "cell_type": "code",
   "execution_count": 5,
   "id": "cae9c2e7",
   "metadata": {},
   "outputs": [
    {
     "name": "stdout",
     "output_type": "stream",
     "text": [
      "La media es: 15.481103166496425\n",
      "La mediana es: 14.0\n",
      "Y la moda es: 12\n"
     ]
    }
   ],
   "source": [
    "# Calcula media, mediana y moda de la columna 'title_length'\n",
    "\n",
    "# Media\n",
    "\n",
    "media = df['title_lenght'].mean()\n",
    "\n",
    "# Mediana\n",
    "\n",
    "mediana = df['title_lenght'].median()\n",
    "\n",
    "# Moda\n",
    "\n",
    "moda = df['title_lenght'].mode()[0]\n",
    "\n",
    "print(f'La media es: {media}\\nLa mediana es: {mediana}\\nY la moda es: {moda}')"
   ]
  },
  {
   "cell_type": "code",
   "execution_count": 6,
   "id": "69664a9b",
   "metadata": {},
   "outputs": [
    {
     "name": "stdout",
     "output_type": "stream",
     "text": [
      "El rango es: 67\n",
      "La varianza es: 72.1067488840288\n",
      "Y la desviación estandar es: 8.491569282766807\n"
     ]
    }
   ],
   "source": [
    "# Calcula el rango, la varianza y la desviación estándar de 'title_length'\n",
    "\n",
    "# Rango\n",
    "\n",
    "min = df['title_lenght'].min()\n",
    "max = df['title_lenght'].max()\n",
    "\n",
    "rango = max - min\n",
    "\n",
    "# Varianza\n",
    "\n",
    "varianza = df['title_lenght'].var()\n",
    "\n",
    "# Desviación estandar\n",
    "\n",
    "desv = df['title_lenght'].std()\n",
    "\n",
    "print(f'El rango es: {rango}\\nLa varianza es: {varianza}\\nY la desviación estandar es: {desv}')"
   ]
  },
  {
   "cell_type": "code",
   "execution_count": 12,
   "id": "6b9a931c",
   "metadata": {},
   "outputs": [
    {
     "name": "stdout",
     "output_type": "stream",
     "text": [
      "La simetría es: 1.5252523464631278, esto quiere decir que es asimetría positiva\n",
      "Y la curtosis es: 3.8122887061291544, en la teoría esto representa una curtósis leptocúrtica.\n"
     ]
    }
   ],
   "source": [
    "# Calcula asimetría y curtosis de la columna 'title_length'\n",
    "\n",
    "simetría = df['title_lenght'].skew()\n",
    "\n",
    "curtosis = df['title_lenght'].kurt()\n",
    "\n",
    "print(f'La simetría es: {simetría}, esto quiere decir que es asimetría positiva\\nY la curtosis es: {curtosis}, en la teoría esto representa una curtósis leptocúrtica.')"
   ]
  },
  {
   "cell_type": "code",
   "execution_count": 20,
   "id": "c0d09e68",
   "metadata": {},
   "outputs": [
    {
     "name": "stdout",
     "output_type": "stream",
     "text": [
      "El título más corto es: M\n",
      "Y el título más largo es: Dr. Strangelove or: How I Learned to Stop Worrying and Love the Bomb\n"
     ]
    }
   ],
   "source": [
    "# Imprime el título más corto y el título más largo según su longitud\n",
    "\n",
    "# Título más corto\n",
    "\n",
    "id_corto = df['title_lenght'].idxmin()\n",
    "\n",
    "t_corto = df['title'].loc[id_corto]\n",
    "\n",
    "# Título más largo\n",
    "\n",
    "id_largo = df['title_lenght'].idxmax()\n",
    "\n",
    "t_largo = df['title'].loc[id_largo]\n",
    "\n",
    "print(f'El título más corto es: {t_corto}\\nY el título más largo es: {t_largo}')"
   ]
  },
  {
   "cell_type": "code",
   "execution_count": 61,
   "id": "e86a1ced",
   "metadata": {},
   "outputs": [
    {
     "data": {
      "image/png": "[encoded data removed]",
      "text/plain": [
       "<Figure size 1000x1000 with 8 Axes>"
      ]
     },
     "metadata": {},
     "output_type": "display_data"
    }
   ],
   "source": [
    "# grafica tus resultados\n",
    "\n",
    "fig, ax = plt.subplots(nrows=4, ncols=2, figsize=(10, 10))\n",
    "\n",
    "# Media\n",
    "\n",
    "ax[0,0].hist(df['title_lenght'])\n",
    "ax[0,0].axvline(media, color='r', label=f'Media: {media:.2f}')\n",
    "ax[0,0].legend()\n",
    "ax[0,0].set_title(\"Media\")\n",
    "ax[0,0].set_xlabel('Longitud del Título')\n",
    "ax[0,0].set_ylabel('Frecuencia')\n",
    "\n",
    "# Mediana\n",
    "\n",
    "ax[0,1].hist(df['title_lenght'])\n",
    "ax[0,1].axvline(mediana, color='r', label=f'Mediana: {mediana:.2f}')\n",
    "ax[0,1].legend()\n",
    "ax[0,1].set_title(\"Mediana\")\n",
    "ax[0,1].set_xlabel('Longitud del Título')\n",
    "ax[0,1].set_ylabel('Frecuencia')\n",
    "\n",
    "# Moda\n",
    "\n",
    "ax[1,0].hist(df['title_lenght'])\n",
    "ax[1,0].axvline(moda, color='r', label=f'Moda: {moda:.2f}')\n",
    "ax[1,0].legend()\n",
    "ax[1,0].set_title(\"Moda\")\n",
    "ax[1,0].set_xlabel('Longitud del Título')\n",
    "ax[1,0].set_ylabel('Frecuencia')\n",
    "\n",
    "# Rango\n",
    "\n",
    "ax[1,1].hist(df['title_lenght'])\n",
    "ax[1,1].axvspan(min, max, color='gray', alpha=0.4 ,label=f'Rango: {min:.2f} - {max:.2f}')\n",
    "ax[1,1].legend()\n",
    "ax[1,1].set_title(\"Rango\")\n",
    "\n",
    "# La varianza y la desviación estandar son una medida de dispersión, entonces está bien solo mostrar su valor con respecto a la gráfica\n",
    "\n",
    "ax[2,0].hist(df['title_lenght'])\n",
    "ax[2,0].axvline(varianza, color='g', alpha=0.5, label=f'Varianza: {varianza:.2f}')\n",
    "ax[2,0].axvline(desv, color='r', alpha=0.5, label=f'Desviación Estándar: {desv:.2f}')\n",
    "ax[2,0].legend()\n",
    "ax[2,0].set_title(\"Varianza y Desviación Estandar\")\n",
    "\n",
    "\n",
    "# Simetría\n",
    "\n",
    "ax[3,0].hist(df['title_lenght'])\n",
    "ax[3,0].plot(simetría, label=f'Asimetría: {simetría:.2f}')\n",
    "ax[3,0].legend()\n",
    "ax[3,0].set_title(\"Simetría\")\n",
    "\n",
    "# Curtósis\n",
    "\n",
    "ax[3,1].hist(df['title_lenght'])\n",
    "ax[3,1].plot(curtosis, label=f'Curtosis: {curtosis:.2f}')\n",
    "ax[3,1].legend()\n",
    "ax[3,1].set_title(\"Curtosis\")\n",
    "\n",
    "plt.tight_layout()\n",
    "plt.show()\n"
   ]
  },
  {
   "cell_type": "markdown",
   "id": "eaf3ceb7",
   "metadata": {},
   "source": [
    "---\n",
    "\n",
    "## Ejercicio 2 – Cálculo manual de desviación estándar\n",
    "\n",
    "En este ejercicio vas a calcular manualmente la desviación estándar, seleccionando cinco títulos reales del dataset de películas que cargaste antes.\n"
   ]
  },
  {
   "cell_type": "code",
   "execution_count": null,
   "id": "3005c0f9",
   "metadata": {},
   "outputs": [
    {
     "name": "stdout",
     "output_type": "stream",
     "text": [
      "[24, 12, 49, 12, 10]\n"
     ]
    }
   ],
   "source": [
    "# Crea una lista con 5 valores reales de df['title_length'], por ejemplo: [10, 13, 14, 18, 22]\n",
    "\n",
    "indices = [0, 5, 10, 15, 20]\n",
    "\n",
    "titulos_manuales = df['title_lenght'].iloc[indices].tolist()"
   ]
  },
  {
   "cell_type": "code",
   "execution_count": 65,
   "id": "d96b771f",
   "metadata": {},
   "outputs": [
    {
     "name": "stdout",
     "output_type": "stream",
     "text": [
      "21.4\n"
     ]
    }
   ],
   "source": [
    "# Calcula la media de los 5 valores\n",
    "\n",
    "suma = sum(titulos_manuales)\n",
    "\n",
    "media_t_manuales = suma / len(titulos_manuales)\n",
    "\n",
    "print(media_t_manuales)"
   ]
  },
  {
   "cell_type": "code",
   "execution_count": 66,
   "id": "346d0dc5",
   "metadata": {},
   "outputs": [
    {
     "name": "stdout",
     "output_type": "stream",
     "text": [
      "[6.760000000000008, 88.35999999999997, 761.7600000000001, 88.35999999999997, 129.95999999999998]\n"
     ]
    }
   ],
   "source": [
    "# Calcula las diferencias al cuadrado con respecto a la media\n",
    "\n",
    "diferencias_al_cuadrado = [(x - media_t_manuales) ** 2 for x in titulos_manuales]\n",
    "\n",
    "print(diferencias_al_cuadrado)"
   ]
  },
  {
   "cell_type": "code",
   "execution_count": null,
   "id": "f56517ff",
   "metadata": {},
   "outputs": [
    {
     "name": "stdout",
     "output_type": "stream",
     "text": [
      "La varianza es: 215.04000000000002\n",
      "Y la desviación estandar es: 14.66424222385869\n"
     ]
    }
   ],
   "source": [
    "# Calcula la varianza (promedio de las diferencias al cuadrado) y su raíz cuadrada para obtener la desviación\n",
    "\n",
    "# Varianza\n",
    "\n",
    "suma_dif_cuadrado = sum(diferencias_al_cuadrado)\n",
    "\n",
    "varianza = suma_dif_cuadrado / (len(diferencias_al_cuadrado) - 1)\n",
    "\n",
    "# Desviación estandar\n",
    "\n",
    "desv = varianza ** 0.5\n",
    "\n",
    "print(f'La varianza es: {varianza}\\nY la desviación estandar es: {desv}')"
   ]
  }
 ],
 "metadata": {
  "kernelspec": {
   "display_name": "Python 3",
   "language": "python",
   "name": "python3"
  },
  "language_info": {
   "codemirror_mode": {
    "name": "ipython",
    "version": 3
   },
   "file_extension": ".py",
   "mimetype": "text/x-python",
   "name": "python",
   "nbconvert_exporter": "python",
   "pygments_lexer": "ipython3",
   "version": "3.11.4"
  }
 },
 "nbformat": 4,
 "nbformat_minor": 5
}
